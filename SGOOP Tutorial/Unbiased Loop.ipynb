{
 "cells": [
  {
   "cell_type": "code",
   "execution_count": 1,
   "metadata": {},
   "outputs": [],
   "source": [
    "\"\"\"Example of the optimization process for SGOOP.  Here we find the weights of cos(phi),sin(phi),cos(psi),sin(psi)\n",
    "for alanine dipeptide in vacuum from an unbiased trajectory.  We use the cos and sin of dihedral angles to avoid\n",
    "inaccuracy caused by the discontinuity of angles (pi = -pi).\"\"\"\n",
    "import sgoop\n",
    "import scipy.optimize as opt\n",
    "import numpy as np\n",
    "import time\n",
    "import matplotlib.pyplot as plt\n",
    "\n",
    "np.set_printoptions(formatter={'float': '{: 0.3f}'.format})"
   ]
  },
  {
   "cell_type": "code",
   "execution_count": 2,
   "metadata": {},
   "outputs": [],
   "source": [
    "def opti_func(rc):\n",
    "    global nfev\n",
    "    nfev +=1\n",
    "    return -sgoop.rc_eval(rc)"
   ]
  },
  {
   "cell_type": "code",
   "execution_count": 3,
   "metadata": {},
   "outputs": [],
   "source": [
    "def print_fun(x, f, accepted):\n",
    "    global now,last,nfev,lastf\n",
    "    now=time.time()\n",
    "    print(x,end=' ')\n",
    "    if accepted == 1:\n",
    "        print(\"with spectral gap %.4f accepted after %3i runs (%.3f)\" % (-f, nfev-lastf, now-last))\n",
    "    else:\n",
    "        print(\"with spectral gap %.4f declined after %3i runs (%.3f)\" % (-f, nfev-lastf, now-last))\n",
    "    last=now\n",
    "    lastf=nfev"
   ]
  },
  {
   "cell_type": "code",
   "execution_count": 4,
   "metadata": {},
   "outputs": [
    {
     "name": "stdout",
     "output_type": "stream",
     "text": [
      "[-0.958 -1.081  0.973  1.028] with spectral gap 0.0761 accepted after  12 runs (4.495)\n",
      "[-0.984 -1.141  0.946  1.108] with spectral gap 0.0725 declined after   6 runs (2.103)\n",
      "[-0.897 -1.142  0.910  0.960] with spectral gap 0.0768 accepted after   6 runs (2.059)\n",
      "[-0.882 -1.112  0.912  1.032] with spectral gap 0.0732 declined after   6 runs (2.183)\n",
      "[-0.803 -1.164  0.944  0.967] with spectral gap 0.0771 accepted after   6 runs (2.279)\n",
      "[-0.718 -1.131  0.861  0.972] with spectral gap 0.0727 declined after   6 runs (2.173)\n",
      "[-0.727 -1.122  0.946  1.056] with spectral gap 0.0738 declined after   6 runs (2.138)\n",
      "[-0.805 -1.168  1.035  0.917] with spectral gap 0.0829 accepted after   6 runs (2.098)\n",
      "[-0.827 -1.091  0.985  0.828] with spectral gap 0.0867 accepted after   6 runs (2.119)\n",
      "[-0.856 -1.142  0.987  0.791] with spectral gap 0.0894 accepted after   6 runs (2.247)\n",
      "[-0.838 -1.216  0.946  0.708] with spectral gap 0.0911 accepted after   6 runs (2.179)\n",
      "[-0.863 -1.245  1.023  0.768] with spectral gap 0.0910 accepted after   6 runs (2.160)\n",
      "[-0.801 -1.257  1.119  0.799] with spectral gap 0.0916 accepted after   6 runs (2.172)\n",
      "[-0.785 -1.202  1.136  0.789] with spectral gap 0.0925 accepted after   6 runs (2.294)\n",
      "[-0.826 -1.229  1.214  0.878] with spectral gap 0.0904 accepted after   6 runs (2.244)\n",
      "[-0.772 -1.286  1.237  0.892] with spectral gap 0.0895 accepted after   6 runs (2.201)\n",
      "[-0.859 -1.285  1.176  0.894] with spectral gap 0.0897 accepted after   6 runs (2.090)\n",
      "[-0.760 -1.341  1.164  0.827] with spectral gap 0.0902 accepted after   6 runs (2.103)\n",
      "[-0.846 -1.333  1.138  0.796] with spectral gap 0.0924 accepted after   6 runs (2.076)\n",
      "[-0.871 -1.378  1.197  0.728] with spectral gap 0.0976 accepted after   6 runs (2.135)\n",
      "[-0.869 -1.354  1.187  0.810] with spectral gap 0.0935 accepted after   6 runs (2.121)\n",
      "[-0.943 -1.292  1.207  0.905] with spectral gap 0.0908 accepted after   6 runs (2.124)\n",
      "[-0.959 -1.316  1.171  0.981] with spectral gap 0.0864 accepted after   6 runs (2.016)\n",
      "[-0.909 -1.344  1.173  0.956] with spectral gap 0.0869 accepted after   6 runs (2.181)\n",
      "[-0.958 -1.274  1.089  0.943] with spectral gap 0.0856 accepted after   6 runs (2.232)\n",
      "[-0.859 -1.303  1.106  0.862] with spectral gap 0.0889 accepted after   6 runs (2.253)\n",
      "[-0.938 -1.245  1.061  0.869] with spectral gap 0.0884 accepted after   6 runs (2.287)\n",
      "[-0.960 -1.333  1.039  0.876] with spectral gap 0.0864 accepted after   6 runs (2.085)\n",
      "[-0.913 -1.297  1.061  0.871] with spectral gap 0.0873 accepted after   6 runs (2.122)\n",
      "[-0.867 -1.204  1.072  0.899] with spectral gap 0.0862 accepted after   6 runs (2.173)\n",
      "[-0.862 -1.286  1.116  0.929] with spectral gap 0.0860 accepted after   6 runs (2.145)\n",
      "[-0.952 -1.345  1.079  0.995] with spectral gap 0.0826 accepted after   6 runs (2.107)\n",
      "[-0.859 -1.374  1.162  1.059] with spectral gap 0.0812 accepted after   6 runs (2.131)\n",
      "[-0.911 -1.300  1.223  1.053] with spectral gap 0.0840 accepted after   6 runs (2.200)\n",
      "[-0.967 -1.262  1.273  1.105] with spectral gap 0.0838 accepted after   6 runs (2.198)\n",
      "[-0.908 -1.354  1.321  1.142] with spectral gap 0.0826 accepted after   6 runs (2.141)\n",
      "[-0.942 -1.340  1.366  1.087] with spectral gap 0.0863 accepted after   6 runs (2.231)\n",
      "[-0.856 -1.297  1.334  1.022] with spectral gap 0.0876 accepted after   6 runs (2.133)\n",
      "[-0.816 -1.362  1.252  0.987] with spectral gap 0.0868 accepted after   6 runs (2.194)\n",
      "[-0.824 -1.408  1.317  1.009] with spectral gap 0.0871 accepted after   6 runs (2.179)\n",
      "[-0.782 -1.390  1.276  1.045] with spectral gap 0.0850 accepted after   6 runs (2.642)\n",
      "[-0.766 -1.341  1.239  1.094] with spectral gap 0.0818 accepted after   6 runs (2.139)\n",
      "[-0.784 -1.381  1.193  1.114] with spectral gap 0.0803 accepted after   6 runs (2.144)\n",
      "[-0.791 -1.329  1.157  1.195] with spectral gap 0.0758 accepted after   6 runs (2.131)\n",
      "[-0.698 -1.277  1.104  1.175] with spectral gap 0.0747 accepted after   6 runs (2.127)\n",
      "[-0.665 -1.352  1.052  1.113] with spectral gap 0.0747 accepted after   6 runs (2.113)\n",
      "[-0.677 -1.449  1.048  1.170] with spectral gap 0.0727 accepted after   6 runs (2.200)\n",
      "[-0.758 -1.445  0.991  1.249] with spectral gap 0.0706 declined after   6 runs (2.064)\n",
      "[-0.597 -1.502  1.009  1.145] with spectral gap 0.0722 accepted after   6 runs (2.125)\n",
      "[-0.704 -1.594  0.944  1.150] with spectral gap 0.0711 accepted after   6 runs (2.056)\n",
      "[-0.628 -1.680  0.844  1.074] with spectral gap 0.0694 accepted after   6 runs (2.015)\n",
      "[-0.686 -1.624  0.847  0.986] with spectral gap 0.0716 accepted after   6 runs (2.060)\n",
      "[-0.743 -1.586  0.790  0.910] with spectral gap 0.0716 accepted after   6 runs (2.164)\n",
      "[-0.804 -1.679  0.778  0.985] with spectral gap 0.0685 accepted after   6 runs (2.104)\n",
      "[-0.824 -1.607  0.877  0.901] with spectral gap 0.0752 accepted after   6 runs (2.102)\n",
      "[-0.862 -1.499  0.900  0.900] with spectral gap 0.0772 accepted after   6 runs (2.089)\n",
      "[-0.828 -1.546  0.812  0.991] with spectral gap 0.0702 declined after   6 runs (2.133)\n",
      "[-0.970 -1.514  0.948  0.984] with spectral gap 0.0770 accepted after   6 runs (2.049)\n",
      "[-1.048 -1.529  1.005  1.005] with spectral gap 0.0791 accepted after   6 runs (2.049)\n",
      "[-1.051 -1.572  1.110  0.962] with spectral gap 0.0847 accepted after   6 runs (2.085)\n",
      "[-1.051 -1.680  1.176  0.956] with spectral gap 0.0865 accepted after   6 runs (2.124)\n",
      "[-1.024 -1.582  1.188  0.976] with spectral gap 0.0866 accepted after   6 runs (2.132)\n",
      "[-0.985 -1.506  1.288  0.895] with spectral gap 0.0933 accepted after   6 runs (2.042)\n",
      "[-1.095 -1.576  1.245  0.916] with spectral gap 0.0920 declined after   6 runs (2.041)\n",
      "[-0.976 -1.532  1.381  0.862] with spectral gap 0.0966 accepted after   6 runs (2.079)\n",
      "[-1.048 -1.422  1.414  0.824] with spectral gap 0.1014 accepted after   6 runs (2.173)\n",
      "[-1.072 -1.396  1.462  0.789] with spectral gap 0.1055 accepted after   6 runs (2.088)\n",
      "[-0.987 -1.312  1.476  0.798] with spectral gap 0.1025 accepted after   6 runs (2.134)\n",
      "[-0.977 -1.385  1.398  0.718] with spectral gap 0.1056 accepted after   6 runs (2.121)\n",
      "[-1.023 -1.283  1.508  0.677] with spectral gap 0.1084 accepted after   6 runs (2.092)\n",
      "[-0.950 -1.369  1.564  0.770] with spectral gap 0.1033 declined after   6 runs (2.080)\n",
      "[-1.132 -1.202  1.557  0.707] with spectral gap 0.1093 accepted after   6 runs (2.041)\n",
      "[-1.162 -1.201  1.502  0.620] with spectral gap 0.1134 accepted after   6 runs (2.133)\n",
      "[-1.095 -1.265  1.401  0.545] with spectral gap 0.1165 accepted after   6 runs (2.121)\n",
      "[-1.159 -1.243  1.334  0.453] with spectral gap 0.1206 accepted after   6 runs (2.144)\n",
      "[-1.233 -1.190  1.437  0.401] with spectral gap 0.1201 declined after   6 runs (2.266)\n",
      "[-1.255 -1.321  1.445  0.558] with spectral gap 0.1181 accepted after   6 runs (2.261)\n",
      "[-1.359 -1.272  1.365  0.557] with spectral gap 0.1163 accepted after   6 runs (2.104)\n",
      "[-1.352 -1.231  1.370  0.629] with spectral gap 0.1143 declined after   6 runs (2.092)\n",
      "[-1.399 -1.325  1.374  0.560] with spectral gap 0.1168 accepted after   6 runs (2.031)\n",
      "[-1.338 -1.357  1.471  0.550] with spectral gap 0.1195 accepted after   6 runs (2.017)\n",
      "[-1.428 -1.390  1.429  0.627] with spectral gap 0.1161 accepted after   6 runs (2.099)\n",
      "[-1.403 -1.318  1.398  0.685] with spectral gap 0.1124 accepted after   6 runs (2.203)\n",
      "[-1.498 -1.349  1.318  0.656] with spectral gap 0.1077 accepted after   6 runs (2.048)\n",
      "[-1.462 -1.295  1.331  0.599] with spectral gap 0.1114 accepted after   6 runs (2.077)\n",
      "[-1.489 -1.327  1.293  0.559] with spectral gap 0.1093 declined after   6 runs (2.103)\n",
      "[-1.483 -1.223  1.337  0.651] with spectral gap 0.1100 accepted after   6 runs (2.064)\n",
      "[-1.479 -1.158  1.297  0.711] with spectral gap 0.1058 accepted after   6 runs (2.082)\n",
      "[-1.471 -1.180  1.204  0.643] with spectral gap 0.1007 declined after   6 runs (2.203)\n",
      "[-1.584 -1.076  1.253  0.640] with spectral gap 0.0810 declined after   6 runs (2.022)\n",
      "[-1.411 -1.130  1.284  0.778] with spectral gap 0.1008 accepted after   6 runs (2.143)\n",
      "[-1.349 -1.225  1.333  0.781] with spectral gap 0.1050 accepted after   6 runs (2.072)\n",
      "[-1.263 -1.255  1.307  0.744] with spectral gap 0.1071 accepted after   6 runs (2.131)\n",
      "[-1.356 -1.234  1.220  0.832] with spectral gap 0.0961 accepted after   6 runs (2.070)\n",
      "[-1.392 -1.290  1.320  0.941] with spectral gap 0.0942 accepted after   6 runs (2.051)\n"
     ]
    },
    {
     "name": "stdout",
     "output_type": "stream",
     "text": [
      "[-1.444 -1.325  1.423  0.885] with spectral gap 0.1023 accepted after   6 runs (2.139)\n",
      "[-1.487 -1.330  1.380  0.798] with spectral gap 0.1051 accepted after   6 runs (2.068)\n",
      "[-1.539 -1.347  1.453  0.692] with spectral gap 0.1111 accepted after   6 runs (2.029)\n",
      "[-1.515 -1.346  1.555  0.590] with spectral gap 0.1172 accepted after   6 runs (2.087)\n",
      "[-1.558 -1.346  1.463  0.541] with spectral gap 0.1181 accepted after   6 runs (2.014)\n",
      "215.41486310958862\n"
     ]
    },
    {
     "data": {
      "text/plain": [
       "                        fun: -0.12063384792849585\n",
       " lowest_optimization_result:       fun: -0.12063384792849585\n",
       " hess_inv: array([[1, 0, 0, 0],\n",
       "       [0, 1, 0, 0],\n",
       "       [0, 0, 1, 0],\n",
       "       [0, 0, 0, 1]])\n",
       "      jac: array([ 0.000,  0.000,  0.000,  0.000])\n",
       "  message: 'Optimization terminated successfully.'\n",
       "     nfev: 6\n",
       "      nit: 0\n",
       "     njev: 1\n",
       "   status: 0\n",
       "  success: True\n",
       "        x: array([-1.159, -1.243,  1.334,  0.453])\n",
       "                    message: ['requested number of basinhopping iterations completed successfully']\n",
       "      minimization_failures: 0\n",
       "                       nfev: 606\n",
       "                        nit: 100\n",
       "                       njev: 101\n",
       "                          x: array([-1.159, -1.243,  1.334,  0.453])"
      ]
     },
     "execution_count": 4,
     "metadata": {},
     "output_type": "execute_result"
    }
   ],
   "source": [
    "# Calculating the optimal 2 well RC.\n",
    "sgoop.wells = 2\n",
    "start = time.time()\n",
    "last = start\n",
    "lastf = nfev = 0\n",
    "minimizer_kwargs = {\"options\": {\"maxiter\":10}}\n",
    "ret = opt.basinhopping(opti_func,[-1,-1,1,1],niter=100,T=.01,stepsize=.1, minimizer_kwargs=minimizer_kwargs, callback=print_fun)\n",
    "end = time.time()\n",
    "print(end-start)\n",
    "ret"
   ]
  },
  {
   "cell_type": "code",
   "execution_count": 9,
   "metadata": {},
   "outputs": [
    {
     "name": "stdout",
     "output_type": "stream",
     "text": [
      "[10.308952660644293 7.600902459542082 6.032286541628237 4.422848629194137\n",
      " 3.0186597781976956 2.1252760780236355 1.9116697659006125\n",
      " 2.298593071724508 2.942507512316693 3.4652027116380677 3.6743193027826067\n",
      " 3.3892688107968816 2.8444428260077648 2.32687778556309 2.0201668502173638\n",
      " 2.3454925940053224 3.400197881329072 5.025748931906304 6.645391014514646\n",
      " 10.308952660644293]\n"
     ]
    },
    {
     "data": {
      "image/png": "[encoded data removed]",
      "text/plain": [
       "<Figure size 432x288 with 1 Axes>"
      ]
     },
     "metadata": {},
     "output_type": "display_data"
    }
   ],
   "source": [
    "# Checking self-consistency.\n",
    "p=sgoop.md_prob(ret.x)\n",
    "plt.plot(-np.ma.log(p))\n",
    "print(-np.ma.log(p))\n",
    "# This is self-consistent"
   ]
  },
  {
   "cell_type": "code",
   "execution_count": 10,
   "metadata": {},
   "outputs": [
    {
     "name": "stdout",
     "output_type": "stream",
     "text": [
      "[-1.097 -0.954  1.014  1.031] with spectral gap 0.0685 declined after  12 runs (4.327)\n",
      "[-0.983 -0.926  0.977  0.921] with spectral gap 0.0704 accepted after   6 runs (2.096)\n",
      "[-0.939 -0.857  0.982  0.849] with spectral gap 0.0710 accepted after   6 runs (2.209)\n",
      "[-0.973 -0.843  1.071  0.783] with spectral gap 0.0691 accepted after   6 runs (2.092)\n",
      "[-0.875 -0.941  1.153  0.815] with spectral gap 0.0727 accepted after   6 runs (2.134)\n",
      "[-0.864 -0.962  1.194  0.854] with spectral gap 0.0718 declined after   6 runs (2.113)\n",
      "[-0.867 -0.955  1.221  0.850] with spectral gap 0.0714 declined after   6 runs (2.102)\n",
      "[-0.830 -0.958  1.223  0.901] with spectral gap 0.0719 accepted after   6 runs (2.039)\n",
      "[-0.814 -1.054  1.177  0.945] with spectral gap 0.0748 accepted after   6 runs (2.064)\n",
      "[-0.880 -1.088  1.178  0.947] with spectral gap 0.0752 accepted after   6 runs (2.186)\n",
      "[-0.843 -1.108  1.087  0.963] with spectral gap 0.0746 accepted after   6 runs (2.251)\n",
      "[-0.747 -1.088  1.121  1.036] with spectral gap 0.0735 accepted after   6 runs (2.146)\n",
      "[-0.712 -1.039  1.182  0.981] with spectral gap 0.0740 accepted after   6 runs (2.099)\n",
      "[-0.633 -1.081  1.082  0.969] with spectral gap 0.0768 accepted after   6 runs (1.963)\n",
      "[-0.547 -1.166  1.012  0.956] with spectral gap 0.0753 accepted after   6 runs (1.887)\n",
      "[-0.590 -1.125  1.014  0.931] with spectral gap 0.0756 accepted after   6 runs (1.948)\n",
      "[-0.665 -1.127  0.983  0.941] with spectral gap 0.0758 accepted after   6 runs (1.929)\n",
      "[-0.729 -1.140  0.961  0.919] with spectral gap 0.0744 accepted after   6 runs (1.945)\n",
      "[-0.780 -1.178  1.006  0.901] with spectral gap 0.0745 accepted after   6 runs (1.963)\n",
      "[-0.806 -1.267  1.036  1.001] with spectral gap 0.0748 accepted after   6 runs (1.951)\n",
      "[-0.876 -1.293  1.014  1.050] with spectral gap 0.0730 accepted after   6 runs (1.911)\n",
      "[-0.797 -1.383  1.073  1.018] with spectral gap 0.0758 accepted after   6 runs (1.987)\n",
      "[-0.797 -1.350  1.072  1.077] with spectral gap 0.0748 accepted after   6 runs (1.939)\n",
      "[-0.772 -1.420  1.000  1.082] with spectral gap 0.0748 accepted after   6 runs (1.917)\n",
      "[-0.799 -1.418  1.079  1.173] with spectral gap 0.0737 accepted after   6 runs (1.906)\n",
      "[-0.855 -1.433  1.174  1.098] with spectral gap 0.0753 accepted after   6 runs (2.080)\n",
      "[-0.877 -1.424  1.131  1.168] with spectral gap 0.0738 accepted after   6 runs (1.942)\n",
      "[-0.950 -1.463  1.185  1.235] with spectral gap 0.0739 accepted after   6 runs (1.930)\n",
      "[-0.918 -1.420  1.202  1.231] with spectral gap 0.0742 accepted after   6 runs (1.935)\n",
      "[-1.001 -1.427  1.189  1.229] with spectral gap 0.0738 accepted after   6 runs (1.932)\n",
      "[-1.081 -1.359  1.162  1.224] with spectral gap 0.0713 accepted after   6 runs (1.919)\n",
      "[-1.084 -1.408  1.230  1.203] with spectral gap 0.0740 accepted after   6 runs (1.928)\n",
      "[-1.170 -1.390  1.158  1.177] with spectral gap 0.0699 declined after   6 runs (1.925)\n",
      "[-0.997 -1.317  1.282  1.134] with spectral gap 0.0749 accepted after   6 runs (1.907)\n",
      "[-1.065 -1.284  1.369  1.221] with spectral gap 0.0751 accepted after   6 runs (1.904)\n",
      "[-1.041 -1.289  1.414  1.293] with spectral gap 0.0735 accepted after   6 runs (1.936)\n",
      "[-1.102 -1.291  1.497  1.210] with spectral gap 0.0745 accepted after   6 runs (1.932)\n",
      "[-1.066 -1.202  1.491  1.155] with spectral gap 0.0728 declined after   6 runs (1.995)\n",
      "[-1.062 -1.336  1.461  1.272] with spectral gap 0.0749 accepted after   6 runs (1.920)\n",
      "[-0.984 -1.293  1.461  1.290] with spectral gap 0.0732 accepted after   6 runs (1.895)\n",
      "[-1.014 -1.324  1.376  1.365] with spectral gap 0.0739 accepted after   6 runs (1.882)\n",
      "[-0.936 -1.242  1.299  1.369] with spectral gap 0.0737 accepted after   6 runs (1.929)\n",
      "[-0.954 -1.186  1.331  1.436] with spectral gap 0.0747 accepted after   6 runs (1.919)\n",
      "[-0.945 -1.166  1.371  1.477] with spectral gap 0.0738 accepted after   6 runs (1.897)\n",
      "[-0.893 -1.251  1.343  1.500] with spectral gap 0.0736 accepted after   6 runs (1.914)\n",
      "[-0.903 -1.227  1.300  1.480] with spectral gap 0.0737 accepted after   6 runs (1.887)\n",
      "[-0.991 -1.185  1.333  1.571] with spectral gap 0.0732 accepted after   6 runs (1.956)\n",
      "[-1.074 -1.122  1.419  1.599] with spectral gap 0.0734 accepted after   6 runs (1.892)\n",
      "[-1.087 -1.175  1.493  1.688] with spectral gap 0.0731 accepted after   6 runs (1.996)\n",
      "[-1.073 -1.124  1.546  1.720] with spectral gap 0.0724 accepted after   6 runs (1.947)\n",
      "[-1.115 -1.216  1.622  1.756] with spectral gap 0.0730 accepted after   6 runs (1.889)\n",
      "[-1.226 -1.217  1.648  1.677] with spectral gap 0.0735 accepted after   6 runs (1.957)\n",
      "[-1.230 -1.180  1.714  1.772] with spectral gap 0.0728 accepted after   6 runs (1.967)\n",
      "[-1.138 -1.227  1.613  1.880] with spectral gap 0.0724 accepted after   6 runs (1.978)\n",
      "[-1.077 -1.254  1.575  1.957] with spectral gap 0.0720 accepted after   6 runs (1.906)\n",
      "[-1.079 -1.346  1.572  1.987] with spectral gap 0.0726 accepted after   6 runs (1.908)\n",
      "[-0.980 -1.402  1.524  2.010] with spectral gap 0.0722 accepted after   6 runs (1.972)\n",
      "[-0.983 -1.460  1.569  2.037] with spectral gap 0.0728 accepted after   6 runs (1.912)\n",
      "[-0.977 -1.351  1.540  1.934] with spectral gap 0.0720 accepted after   6 runs (1.932)\n",
      "[-0.955 -1.318  1.449  2.016] with spectral gap 0.0715 accepted after   6 runs (2.053)\n",
      "[-0.919 -1.245  1.382  2.087] with spectral gap 0.0693 accepted after   6 runs (1.884)\n",
      "[-0.821 -1.345  1.327  2.153] with spectral gap 0.0687 declined after   6 runs (1.921)\n",
      "[-0.861 -1.250  1.377  2.153] with spectral gap 0.0689 accepted after   6 runs (1.956)\n",
      "[-0.936 -1.356  1.406  2.192] with spectral gap 0.0699 accepted after   6 runs (1.948)\n",
      "[-0.876 -1.439  1.366  2.284] with spectral gap 0.0681 accepted after   6 runs (1.909)\n",
      "[-0.981 -1.417  1.355  2.369] with spectral gap 0.0677 accepted after   6 runs (1.908)\n",
      "[-0.898 -1.310  1.393  2.433] with spectral gap 0.0669 accepted after   6 runs (1.935)\n",
      "[-0.804 -1.317  1.291  2.499] with spectral gap 0.0650 accepted after   6 runs (1.962)\n",
      "[-0.839 -1.271  1.356  2.554] with spectral gap 0.0645 accepted after   6 runs (1.911)\n",
      "[-0.798 -1.170  1.303  2.544] with spectral gap 0.0640 accepted after   6 runs (1.934)\n",
      "[-0.694 -1.253  1.270  2.615] with spectral gap 0.0642 accepted after   6 runs (2.026)\n",
      "[-0.701 -1.223  1.369  2.601] with spectral gap 0.0647 accepted after   6 runs (1.973)\n",
      "[-0.621 -1.148  1.382  2.495] with spectral gap 0.0650 accepted after   6 runs (1.902)\n",
      "[-0.621 -1.108  1.356  2.449] with spectral gap 0.0647 accepted after   6 runs (1.897)\n",
      "[-0.564 -1.122  1.297  2.368] with spectral gap 0.0656 accepted after   6 runs (1.950)\n",
      "[-0.607 -1.077  1.236  2.369] with spectral gap 0.0646 accepted after   6 runs (1.966)\n",
      "[-0.689 -1.119  1.151  2.475] with spectral gap 0.0625 accepted after   6 runs (1.891)\n",
      "[-0.790 -1.223  1.202  2.475] with spectral gap 0.0635 accepted after   6 runs (2.062)\n",
      "[-0.783 -1.258  1.193  2.437] with spectral gap 0.0645 accepted after   6 runs (2.038)\n",
      "[-0.854 -1.274  1.279  2.366] with spectral gap 0.0652 accepted after   6 runs (1.941)\n",
      "[-0.938 -1.265  1.255  2.285] with spectral gap 0.0670 accepted after   6 runs (1.900)\n",
      "[-0.841 -1.274  1.339  2.186] with spectral gap 0.0681 accepted after   6 runs (1.884)\n",
      "[-0.795 -1.362  1.233  2.170] with spectral gap 0.0674 accepted after   6 runs (1.972)\n",
      "[-0.743 -1.302  1.199  2.122] with spectral gap 0.0671 accepted after   6 runs (2.125)\n",
      "[-0.720 -1.260  1.194  2.206] with spectral gap 0.0662 accepted after   6 runs (2.083)\n",
      "[-0.655 -1.259  1.241  2.282] with spectral gap 0.0658 accepted after   6 runs (1.966)\n",
      "[-0.756 -1.219  1.151  2.351] with spectral gap 0.0644 accepted after   6 runs (1.997)\n",
      "[-0.776 -1.289  1.089  2.335] with spectral gap 0.0639 accepted after   6 runs (1.969)\n",
      "[-0.676 -1.223  1.026  2.316] with spectral gap 0.0633 accepted after   6 runs (1.977)\n",
      "[-0.669 -1.272  1.007  2.345] with spectral gap 0.0632 accepted after   6 runs (1.956)\n",
      "[-0.565 -1.229  1.029  2.360] with spectral gap 0.0639 accepted after   6 runs (1.936)\n",
      "[-0.643 -1.318  1.109  2.413] with spectral gap 0.0647 accepted after   6 runs (2.072)\n",
      "[-0.644 -1.229  1.081  2.466] with spectral gap 0.0633 accepted after   6 runs (2.030)\n",
      "[-0.554 -1.148  0.990  2.430] with spectral gap 0.0621 accepted after   6 runs (1.997)\n",
      "[-0.628 -1.237  0.933  2.425] with spectral gap 0.0608 declined after   6 runs (1.998)\n"
     ]
    },
    {
     "name": "stdout",
     "output_type": "stream",
     "text": [
      "[-0.484 -1.084  1.038  2.425] with spectral gap 0.0631 accepted after   6 runs (2.013)\n",
      "[-0.592 -1.151  0.993  2.458] with spectral gap 0.0611 declined after   6 runs (1.963)\n",
      "[-0.554 -1.042  1.057  2.327] with spectral gap 0.0630 accepted after   6 runs (1.963)\n",
      "[-0.579 -0.992  0.950  2.335] with spectral gap 0.0603 accepted after   6 runs (1.929)\n",
      "[-0.602 -1.072  1.022  2.448] with spectral gap 0.0611 accepted after   6 runs (1.897)\n",
      "199.41764497756958\n"
     ]
    },
    {
     "data": {
      "text/plain": [
       "                        fun: -0.0767703390306036\n",
       " lowest_optimization_result:       fun: -0.0767703390306036\n",
       " hess_inv: array([[1, 0, 0, 0],\n",
       "       [0, 1, 0, 0],\n",
       "       [0, 0, 1, 0],\n",
       "       [0, 0, 0, 1]])\n",
       "      jac: array([ 0.000,  0.000,  0.000,  0.000])\n",
       "  message: 'Optimization terminated successfully.'\n",
       "     nfev: 6\n",
       "      nit: 0\n",
       "     njev: 1\n",
       "   status: 0\n",
       "  success: True\n",
       "        x: array([-0.633, -1.081,  1.082,  0.969])\n",
       "                    message: ['requested number of basinhopping iterations completed successfully']\n",
       "      minimization_failures: 0\n",
       "                       nfev: 606\n",
       "                        nit: 100\n",
       "                       njev: 101\n",
       "                          x: array([-0.633, -1.081,  1.082,  0.969])"
      ]
     },
     "execution_count": 10,
     "metadata": {},
     "output_type": "execute_result"
    }
   ],
   "source": [
    "# Calculating the optimal 3 well RC.\n",
    "sgoop.wells = 3\n",
    "start = time.time()\n",
    "last = start\n",
    "lastf = nfev = 0\n",
    "minimizer_kwargs = {\"options\": {\"maxiter\":10}}\n",
    "ret = opt.basinhopping(opti_func,[-1,-1,1,1],niter=100,T=.01,stepsize=.1, minimizer_kwargs=minimizer_kwargs, callback=print_fun)\n",
    "end = time.time()\n",
    "print(end-start)\n",
    "ret"
   ]
  },
  {
   "cell_type": "code",
   "execution_count": 11,
   "metadata": {},
   "outputs": [
    {
     "name": "stdout",
     "output_type": "stream",
     "text": [
      "[8.006367567650246 7.173458444715143 5.233778845410465 3.9187119935789427\n",
      " 3.061872076058536 2.6136495256807257 2.3976286416809396 2.434213535472482\n",
      " 2.6673882193833203 3.028255465259551 3.4641371814360293\n",
      " 3.8335199439402023 4.160484364726646 3.989984546897858 3.553183738660037\n",
      " 2.7308071882248264 1.791959489230722 1.7052148678278691\n",
      " 3.5767419541770864 10.308952660644293]\n"
     ]
    },
    {
     "data": {
      "image/png": "[encoded data removed]",
      "text/plain": [
       "<Figure size 432x288 with 1 Axes>"
      ]
     },
     "metadata": {},
     "output_type": "display_data"
    }
   ],
   "source": [
    "# Checking for self-consistency.\n",
    "p=sgoop.md_prob(ret.x)\n",
    "plt.plot(-np.ma.log(p))\n",
    "print(-np.ma.log(p))\n",
    "#This is NOT self-consistent.  We use the 2 well RC!"
   ]
  },
  {
   "cell_type": "code",
   "execution_count": null,
   "metadata": {},
   "outputs": [],
   "source": []
  }
 ],
 "metadata": {
  "kernelspec": {
   "display_name": "Python 3",
   "language": "python",
   "name": "python3"
  },
  "language_info": {
   "codemirror_mode": {
    "name": "ipython",
    "version": 3
   },
   "file_extension": ".py",
   "mimetype": "text/x-python",
   "name": "python",
   "nbconvert_exporter": "python",
   "pygments_lexer": "ipython3",
   "version": "3.6.5"
  }
 },
 "nbformat": 4,
 "nbformat_minor": 2
}
