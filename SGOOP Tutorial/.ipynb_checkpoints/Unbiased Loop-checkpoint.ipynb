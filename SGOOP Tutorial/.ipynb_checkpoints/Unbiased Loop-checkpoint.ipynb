{
 "cells": [
  {
   "cell_type": "code",
   "execution_count": 1,
   "metadata": {},
   "outputs": [],
   "source": [
    "import sgoop\n",
    "import reweight as DP\n",
    "import scipy.optimize as opt\n",
    "import numpy as np\n",
    "import time\n",
    "import matplotlib.pyplot as plt\n",
    "\n",
    "np.set_printoptions(formatter={'float': '{: 0.3f}'.format})"
   ]
  },
  {
   "cell_type": "code",
   "execution_count": 2,
   "metadata": {},
   "outputs": [],
   "source": [
    "def opti_func(rc):\n",
    "    global nfev\n",
    "    nfev +=1\n",
    "    p = DP.reweight(rc)\n",
    "    sgoop.set_bins(rc,np.shape(p)[0],DP.s_min,DP.s_max) # Setting bins for maxcal\n",
    "    return -sgoop.sgoop(rc,p)"
   ]
  },
  {
   "cell_type": "code",
   "execution_count": 3,
   "metadata": {},
   "outputs": [],
   "source": [
    "def print_fun(x, f, accepted):\n",
    "    global now,last,nfev,lastf\n",
    "    now=time.time()\n",
    "    print(x,end=' ')\n",
    "    if accepted == 1:\n",
    "        print(\"with spectral gap %.4f accepted after %3i runs (%.3f)\" % (-f, nfev-lastf, now-last))\n",
    "    else:\n",
    "        print(\"with spectral gap %.4f declined after %3i runs (%.3f)\" % (-f, nfev-lastf, now-last))\n",
    "    last=now\n",
    "    lastf=nfev"
   ]
  },
  {
   "cell_type": "code",
   "execution_count": null,
   "metadata": {},
   "outputs": [
    {
     "name": "stdout",
     "output_type": "stream",
     "text": [
      "[-1.002 -1.056  1.075  0.955] with spectral gap 0.0019 declined after  12 runs (11.700)\n",
      "[-1.019 -0.971  0.929  1.011] with spectral gap 0.0032 accepted after   6 runs (5.892)\n",
      "[-0.927 -1.070  0.928  0.987] with spectral gap 0.0025 accepted after   6 runs (6.158)\n",
      "[-0.899 -1.128  1.016  0.899] with spectral gap 0.0017 declined after   6 runs (5.854)\n",
      "[-0.923 -1.053  1.018  0.928] with spectral gap 0.0018 declined after   6 runs (5.909)\n",
      "[-0.855 -1.144  0.879  0.918] with spectral gap 0.0024 accepted after   6 runs (5.968)\n",
      "[-0.765 -1.123  0.877  0.949] with spectral gap 0.0018 accepted after   6 runs (5.829)\n",
      "[-0.863 -1.175  0.939  1.033] with spectral gap 0.0021 accepted after   6 runs (5.910)\n",
      "[-0.780 -1.208  0.915  0.938] with spectral gap 0.0018 accepted after   6 runs (5.859)\n",
      "[-0.880 -1.298  0.970  0.983] with spectral gap 0.0021 accepted after   6 runs (5.900)\n",
      "[-0.841 -1.223  0.980  0.974] with spectral gap 0.0017 accepted after   6 runs (5.904)\n",
      "[-0.860 -1.251  1.075  0.975] with spectral gap 0.0013 declined after   6 runs (5.829)\n",
      "[-0.776 -1.167  1.080  1.002] with spectral gap 0.0012 declined after   6 runs (5.800)\n",
      "[-0.765 -1.168  1.062  1.065] with spectral gap 0.0011 declined after   6 runs (5.811)\n",
      "[-0.885 -1.249  1.023  1.066] with spectral gap 0.0017 accepted after   6 runs (5.707)\n",
      "[-0.800 -1.153  1.043  1.119] with spectral gap 0.0012 accepted after   6 runs (5.846)\n",
      "[-0.778 -1.109  1.035  1.091] with spectral gap 0.0012 accepted after   6 runs (6.231)\n",
      "[-0.716 -1.115  1.066  1.111] with spectral gap 0.0013 accepted after   6 runs (6.128)\n",
      "[-0.815 -1.155  0.976  1.193] with spectral gap 0.0016 accepted after   6 runs (5.978)\n",
      "[-0.780 -1.237  1.008  1.236] with spectral gap 0.0013 accepted after   6 runs (5.846)\n",
      "[-0.694 -1.324  1.067  1.210] with spectral gap 0.0011 accepted after 144 runs (139.104)\n",
      "[-0.629 -1.263  1.127  1.194] with spectral gap 0.0017 accepted after   6 runs (5.900)\n",
      "[-0.653 -1.196  1.205  1.239] with spectral gap 0.0024 accepted after   6 runs (5.781)\n",
      "[-0.599 -1.124  1.121  1.311] with spectral gap 0.0021 accepted after   6 runs (5.885)\n",
      "[-0.517 -1.182  1.071  1.260] with spectral gap 0.0020 accepted after   6 runs (5.940)\n"
     ]
    }
   ],
   "source": [
    "sgoop.wells = 2\n",
    "start = time.time()\n",
    "last = start\n",
    "lastf = nfev = 0\n",
    "minimizer_kwargs = {\"options\": {\"maxiter\":10}}\n",
    "ret = opt.basinhopping(opti_func,[-1,-1,1,1],niter=100,T=.001,stepsize=.1, minimizer_kwargs=minimizer_kwargs, callback=print_fun)\n",
    "end = time.time()\n",
    "print(end-start)\n",
    "ret"
   ]
  },
  {
   "cell_type": "code",
   "execution_count": null,
   "metadata": {},
   "outputs": [],
   "source": []
  },
  {
   "cell_type": "code",
   "execution_count": null,
   "metadata": {},
   "outputs": [],
   "source": []
  },
  {
   "cell_type": "code",
   "execution_count": null,
   "metadata": {},
   "outputs": [],
   "source": []
  },
  {
   "cell_type": "code",
   "execution_count": null,
   "metadata": {},
   "outputs": [],
   "source": [
    "p=DP.reweight(ret.x)"
   ]
  },
  {
   "cell_type": "code",
   "execution_count": null,
   "metadata": {},
   "outputs": [],
   "source": [
    "plt.plot(-np.ma.log(p))"
   ]
  },
  {
   "cell_type": "code",
   "execution_count": null,
   "metadata": {},
   "outputs": [],
   "source": []
  },
  {
   "cell_type": "code",
   "execution_count": null,
   "metadata": {},
   "outputs": [],
   "source": []
  }
 ],
 "metadata": {
  "kernelspec": {
   "display_name": "Python 3",
   "language": "python",
   "name": "python3"
  },
  "language_info": {
   "codemirror_mode": {
    "name": "ipython",
    "version": 3
   },
   "file_extension": ".py",
   "mimetype": "text/x-python",
   "name": "python",
   "nbconvert_exporter": "python",
   "pygments_lexer": "ipython3",
   "version": "3.6.5"
  }
 },
 "nbformat": 4,
 "nbformat_minor": 2
}
