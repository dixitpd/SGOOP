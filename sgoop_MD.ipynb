{
 "cells": [
  {
   "cell_type": "code",
   "execution_count": 1,
   "metadata": {
    "scrolled": true
   },
   "outputs": [],
   "source": [
    "\"\"\" Script that evaluates reaction coordinates using the SGOOP method. \n",
    "Probabilites are calculated using MD trajectories. Transition rates are\n",
    "found using the maximum caliber approach.  \n",
    "For unbiased simulations use rc_eval().\n",
    "For biased simulations calculate unbiased probabilities and analyze then with sgoop().\n",
    "\n",
    "The original method was published by Tiwary and Berne, PNAS 2016, 113, 2839.\n",
    "\n",
    "Author: Zachary Smith                   zsmith7@terpmail.umd.edu\n",
    "Original Algorithm: Pratyush Tiwary     ptiwary@umd.edu \n",
    "Contributor: Pablo Bravo Collado        ptbravo@uc.cl\"\"\"\n",
    "\n",
    "import numpy as np\n",
    "import scipy.optimize as opt\n",
    "from scipy import signal\n",
    "import matplotlib.pyplot as plt\n",
    "from mpl_toolkits.mplot3d import Axes3D"
   ]
  },
  {
   "cell_type": "code",
   "execution_count": 2,
   "metadata": {},
   "outputs": [],
   "source": [
    "\"\"\"User Defined Variables\"\"\"\n",
    "in_file = 'ZS.traj' # Input file\n",
    "nrc = 18            # Number of reaction coordinates\n",
    "rc_bin = 20         # Bins over RC  \n",
    "wells = 2           # Expected number of wells with barriers > kT\n",
    "d = 1               # Distance between indexes for transition\n",
    "prob_cutoff = 1e-5  # Minimum nonzero probability\n",
    "\n",
    "\"\"\"Auxiliary Variables\"\"\"\n",
    "SG = []             # List of Spectral Gaps\n",
    "RC = []             # List of Reaction Coordinates\n",
    "P = []              # List of probabilites on RC\n",
    "SEE = []            # SGOOP Eigen exp\n",
    "SEV = []            # SGOOP Eigen values\n",
    "SEVE = []           # SGOOP Eigen vectors\n",
    "\n",
    "\"\"\"Load MD File\"\"\"\n",
    "data_array = np.loadtxt(in_file)"
   ]
  },
  {
   "cell_type": "code",
   "execution_count": 3,
   "metadata": {
    "scrolled": true
   },
   "outputs": [],
   "source": [
    "def rei():\n",
    "    # Reinitializes arrays for new runs\n",
    "    global SG,RC,P,SEE,SEV,SEVE\n",
    "    SG = []\n",
    "    RC = []         \n",
    "    P = []              \n",
    "    SEE = []            \n",
    "    SEV = []            \n",
    "    SEVE = []       "
   ]
  },
  {
   "cell_type": "code",
   "execution_count": 4,
   "metadata": {},
   "outputs": [],
   "source": [
    "def normalize_rc(rc):\n",
    "    # Normalizes input RC\n",
    "    squares=0\n",
    "    for i in rc:\n",
    "        squares+=i**2\n",
    "    denom=np.sqrt(squares)\n",
    "    return np.array(rc)/denom"
   ]
  },
  {
   "cell_type": "code",
   "execution_count": 5,
   "metadata": {
    "scrolled": true
   },
   "outputs": [],
   "source": [
    "def generate_rc(i):\n",
    "    # Generates a unit vector with angle pi*i\n",
    "    x=np.cos(np.pi*i)\n",
    "    y=np.sin(np.pi*i)\n",
    "    return (x,y)"
   ]
  },
  {
   "cell_type": "code",
   "execution_count": 6,
   "metadata": {},
   "outputs": [],
   "source": [
    "def md_prob(rc):\n",
    "    # Calculates probability along a given RC\n",
    "    global binned\n",
    "    proj=[]\n",
    "    \n",
    "    for v in data_array:\n",
    "        proj.append(np.dot(v,rc))\n",
    "    rc_min=np.min(proj)\n",
    "    rc_max=np.max(proj)\n",
    "    binned=(proj-rc_min)/(rc_max-rc_min)*(rc_bin-1)\n",
    "    binned=np.array(binned).astype(int)\n",
    "    \n",
    "    prob=np.zeros(rc_bin)\n",
    "    \n",
    "    for point in binned:\n",
    "        prob[point]+=1\n",
    "        \n",
    "    return prob/prob.sum()   # Normalize"
   ]
  },
  {
   "cell_type": "code",
   "execution_count": 7,
   "metadata": {},
   "outputs": [],
   "source": [
    "def set_bins(rc,bins,rc_min,rc_max):  \n",
    "    # Sets bins from an external source\n",
    "    global binned, rc_bin\n",
    "    rc_bin = bins\n",
    "    proj = np.dot(data_array,rc)\n",
    "    binned=(proj-rc_min)/(rc_max-rc_min)*(rc_bin-1)\n",
    "    binned=np.array(binned).astype(int)"
   ]
  },
  {
   "cell_type": "code",
   "execution_count": 8,
   "metadata": {},
   "outputs": [],
   "source": [
    "def clean_whitespace(p): \n",
    "    # Removes values of imported data that do not match MaxCal data\n",
    "    global rc_bin, binned\n",
    "    bmin = np.min(binned)\n",
    "    bmax = np.max(binned)\n",
    "    rc_bin = bmax - bmin + 1\n",
    "    binned -= bmin\n",
    "    return p[bmin:bmax+1]"
   ]
  },
  {
   "cell_type": "code",
   "execution_count": 9,
   "metadata": {
    "scrolled": true
   },
   "outputs": [],
   "source": [
    "def eigeneval(matrix):\n",
    "    # Returns eigenvalues, eigenvectors, and negative exponents of eigenvalues\n",
    "    eigenValues, eigenVectors = np.linalg.eig(matrix)\n",
    "    idx = eigenValues.argsort()     # Sorting by eigenvalues\n",
    "    eigenValues = eigenValues[idx]  # Order eigenvalues\n",
    "    eigenVectors = eigenVectors[:,idx]  # Order eigenvectors\n",
    "    eigenExp = np.exp(-eigenValues)     # Calculate exponentials\n",
    "    return eigenValues, eigenExp, eigenVectors"
   ]
  },
  {
   "cell_type": "code",
   "execution_count": 10,
   "metadata": {
    "scrolled": true
   },
   "outputs": [],
   "source": [
    "def mu_factor(binned,p):\n",
    "    # Calculates the prefactor on SGOOP for a given RC\n",
    "    # Returns the mu factor associated with the RC\n",
    "    # NOTE: mu factor depends on the choice of RC!\n",
    "    # <N>, number of neighbouring transitions on each RC\n",
    "    J = 0\n",
    "    N_mean = 0\n",
    "    D = 0\n",
    "    for I in binned:\n",
    "        N_mean += (np.abs(I-J) <= d)*1\n",
    "        J = np.copy(I)\n",
    "    N_mean = N_mean/len(binned)\n",
    "\n",
    "    # Denominator\n",
    "    for j in range(rc_bin):\n",
    "        for i in range(rc_bin):\n",
    "            if (np.abs(i-j) <= d) and (i != j):\n",
    "                    D += np.sqrt(p[j]*p[i])\n",
    "    MU = N_mean/D\n",
    "    return MU"
   ]
  },
  {
   "cell_type": "code",
   "execution_count": 11,
   "metadata": {},
   "outputs": [],
   "source": [
    "def transmat(MU,p):\n",
    "    # Generates transition matrix\n",
    "    S = np.zeros([rc_bin, rc_bin])\n",
    "    # Non diagonal terms\n",
    "    for j in range(rc_bin):\n",
    "        for i in range(rc_bin):\n",
    "            if (p[i] != 0) and (np.abs(i-j) <= d and (i != j)) :\n",
    "                S[i, j] = MU*np.sqrt(p[j]/p[i])\n",
    "\n",
    "    for i in range(rc_bin):\n",
    "        S[i,i] = -S.sum(1)[i]  # Diagonal terms\n",
    "    S = -np.transpose(S)      # Tranpose and fix \n",
    "    \n",
    "    return S"
   ]
  },
  {
   "cell_type": "code",
   "execution_count": 12,
   "metadata": {
    "scrolled": true
   },
   "outputs": [],
   "source": [
    "def spectral():\n",
    "    # Calculates spectral gap for appropriate number of wells\n",
    "    SEE_pos=SEE[-1][SEV[-1]>-1e-10] # Removing negative eigenvalues\n",
    "    SEE_pos=SEE_pos[SEE_pos>0] # Removing negative exponents\n",
    "    gaps=SEE_pos[:-1]-SEE_pos[1:]\n",
    "    if np.shape(gaps)[0]>=wells:\n",
    "        return gaps[wells-1]\n",
    "    else: \n",
    "        return 0"
   ]
  },
  {
   "cell_type": "code",
   "execution_count": 13,
   "metadata": {
    "scrolled": true
   },
   "outputs": [],
   "source": [
    "def sgoop(rc,p):\n",
    "    # SGOOP for a given probability density on a given RC\n",
    "    # Start here when using probability from an external source\n",
    "    MU = mu_factor(binned,p) # Calculated with MaxCal approach\n",
    "\n",
    "    S = transmat(MU,p)       # Generating the transition matrix\n",
    "    \n",
    "    sev, see, seve = eigeneval(S) # Calculating eigenvalues and vectors for the transition matrix\n",
    "    SEV.append(sev)               # Recording values for later analysis\n",
    "    SEE.append(see)\n",
    "    SEVE.append(seve)\n",
    "    \n",
    "    sg = spectral() # Calculating the spectral gap\n",
    "    SG.append(sg)\n",
    "    \n",
    "    return sg"
   ]
  },
  {
   "cell_type": "code",
   "execution_count": 15,
   "metadata": {},
   "outputs": [],
   "source": [
    "def biased_prob(rc,old_rc):\n",
    "    # Calculates probabilities while \"forgetting\" original RC\n",
    "    global binned\n",
    "    bias_prob=md_prob(old_rc)\n",
    "    bias_bin=binned\n",
    "    \n",
    "    proj=[]\n",
    "    for v in data_array:\n",
    "        proj.append(np.dot(v,rc))\n",
    "    rc_min=np.min(proj)\n",
    "    rc_max=np.max(proj)\n",
    "    binned=(proj-rc_min)/(rc_max-rc_min)*(rc_bin-1)\n",
    "    binned=np.array(binned).astype(int)\n",
    "    \n",
    "    prob=np.zeros(rc_bin)\n",
    "    \n",
    "    for i in range(np.shape(binned)[0]):\n",
    "        prob[binned[i]]+=1/bias_prob[bias_bin[i]] # Dividing by RAVE-like weights\n",
    "        \n",
    "    return prob/prob.sum()   # Normalize"
   ]
  },
  {
   "cell_type": "code",
   "execution_count": 17,
   "metadata": {},
   "outputs": [],
   "source": [
    "def best_plot():\n",
    "    # Displays the best RC for 2D data\n",
    "    best_rc=np.ceil(np.arccos(RC[np.argmax(SG)][0])*180/np.pi)\n",
    "    plt.figure()\n",
    "    cmap=plt.cm.get_cmap(\"jet\")\n",
    "    hist = np.histogram2d(data_array[:,0],data_array[:,1],100)\n",
    "    hist = hist[0]\n",
    "    prob = hist/np.sum(hist)\n",
    "    potE=-np.ma.log(prob)\n",
    "    potE-=np.min(potE)\n",
    "    np.ma.set_fill_value(potE,np.max(potE))\n",
    "    plt.contourf(np.transpose(np.ma.filled(potE)),cmap=cmap)\n",
    "\n",
    "    plt.title('Best RC = {0:.2f} Degrees'.format(best_rc))\n",
    "    origin=[50,50]\n",
    "    rcx=np.cos(np.pi*best_rc/180)\n",
    "    rcy=np.sin(np.pi*best_rc/180)\n",
    "    plt.quiver(*origin,rcx,rcy,scale=.1,color='grey');\n",
    "    plt.quiver(*origin,-rcx,-rcy,scale=.1,color='grey');"
   ]
  },
  {
   "cell_type": "code",
   "execution_count": 20,
   "metadata": {
    "scrolled": true
   },
   "outputs": [],
   "source": [
    "def rc_eval(rc):\n",
    "    # Unbiased SGOOP on a given RC\n",
    "    # Input type: array of weights\n",
    "    \n",
    "    \"\"\"Save RC for Calculations\"\"\"\n",
    "    rc = normalize_rc(rc)\n",
    "    RC.append(rc)\n",
    "\n",
    "    \"\"\"Probabilities and Index on RC\"\"\"\n",
    "    prob=md_prob(rc)\n",
    "    P.append(prob)\n",
    "\n",
    "    \"\"\"Main SGOOP Method\"\"\"\n",
    "    sg = sgoop(rc,prob)\n",
    "    \n",
    "    return sg"
   ]
  },
  {
   "cell_type": "code",
   "execution_count": 21,
   "metadata": {},
   "outputs": [],
   "source": [
    "def biased_eval(rc,bias_rc):\n",
    "    # Biased SGOOP on a given RC with bias along a second RC\n",
    "    # Input type: array of weights, probability from original RC\n",
    "    \n",
    "    \"\"\"Save RC for Calculations\"\"\"\n",
    "    rc = normalize_rc(rc)\n",
    "    RC.append(rc)\n",
    "\n",
    "    \"\"\"Probabilities and Index on RC\"\"\"\n",
    "    prob=biased_prob(rc,bias_rc)\n",
    "    P.append(prob)\n",
    "\n",
    "    \"\"\"Main SGOOP Method\"\"\"\n",
    "    sg = sgoop(rc,prob)\n",
    "    \n",
    "    return sg"
   ]
  }
 ],
 "metadata": {
  "kernelspec": {
   "display_name": "Python 3",
   "language": "python",
   "name": "python3"
  },
  "language_info": {
   "codemirror_mode": {
    "name": "ipython",
    "version": 3
   },
   "file_extension": ".py",
   "mimetype": "text/x-python",
   "name": "python",
   "nbconvert_exporter": "python",
   "pygments_lexer": "ipython3",
   "version": "3.6.5"
  }
 },
 "nbformat": 4,
 "nbformat_minor": 2
}
